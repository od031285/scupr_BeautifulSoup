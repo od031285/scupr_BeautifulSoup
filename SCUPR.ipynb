{
 "cells": [
  {
   "cell_type": "code",
   "execution_count": 110,
   "metadata": {},
   "outputs": [],
   "source": [
    "import requests\n",
    "from bs4 import BeautifulSoup\n",
    "from random import randint\n",
    "from time import sleep\n",
    "\n",
    "base_url = \"https://osg.scot/portal/index.jsp?uprn=\"\n",
    "full_list = []"
   ]
  },
  {
   "cell_type": "code",
   "execution_count": 111,
   "metadata": {},
   "outputs": [],
   "source": [
    "def scupperize (inlist):\n",
    "    \n",
    "    for uprn in inlist:\n",
    "        add_list = []\n",
    "        sleep(randint(3,10))\n",
    "        page = requests.get(base_url + uprn)\n",
    "        soup = BeautifulSoup(page.text, 'html.parser')\n",
    "        pc = soup.find(class_='panel-collapse')\n",
    "        for div in pc.findAll('div', attrs={'class':'panel-body'}):\n",
    "            for p in div.findAll('p'):\n",
    "                s = str(p.text).replace(',', '')\n",
    "                add_list.append (s)\n",
    "        full_list.append(add_list)\n",
    "    return full_list\n",
    "    "
   ]
  },
  {
   "cell_type": "code",
   "execution_count": 112,
   "metadata": {},
   "outputs": [
    {
     "name": "stdout",
     "output_type": "stream",
     "text": [
      "[['ABERDEEN CITY COUNCIL', 'MARISCHAL COLLEGE', 'BROAD STREET', 'ABERDEEN', ' AB10 1AB', 'Postal Town: ABERDEEN', 'Custodian: Aberdeen City', 'UPRN: 9051138577'], ['FOREST LODGE LORDS THROAT', 'MONYMUSK', ' AB51 7JB', 'Postal Town: INVERURIE', 'Custodian: Aberdeenshire', 'UPRN: 151113774'], ['95', 'HAMMERFIELD AVENUE', 'ABERDEEN', ' AB10 7FD', 'Postal Town: ABERDEEN', 'Custodian: Aberdeen City', 'UPRN: 9051041862'], ['9', 'CATTOFIELD PLACE', 'ABERDEEN', ' AB25 3QN', 'Postal Town: ABERDEEN', 'Custodian: Aberdeen City', 'UPRN: 9051053140'], ['18', 'PROVOST NOBLE AVENUE', 'FRASERBURGH', ' AB43 9EZ', 'Postal Town: FRASERBURGH', 'Custodian: Aberdeenshire', 'UPRN: 151013452']]\n"
     ]
    }
   ],
   "source": [
    "uprn_list = [\"9051138577\", \"151113774\", \"9051041862\", \"9051053140\", \"151013452\"]\n",
    "\n",
    "out_list = scupperize(uprn_list)\n",
    "print (out_list)"
   ]
  },
  {
   "cell_type": "code",
   "execution_count": 95,
   "metadata": {},
   "outputs": [],
   "source": []
  }
 ],
 "metadata": {
  "kernelspec": {
   "display_name": "Python 3",
   "language": "python",
   "name": "python3"
  },
  "language_info": {
   "codemirror_mode": {
    "name": "ipython",
    "version": 3
   },
   "file_extension": ".py",
   "mimetype": "text/x-python",
   "name": "python",
   "nbconvert_exporter": "python",
   "pygments_lexer": "ipython3",
   "version": "3.7.4"
  }
 },
 "nbformat": 4,
 "nbformat_minor": 2
}
